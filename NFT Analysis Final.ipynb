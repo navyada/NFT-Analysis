{
 "cells": [
  {
   "cell_type": "markdown",
   "id": "72472c64",
   "metadata": {},
   "source": [
    "# NFT Sales Over Time "
   ]
  },
  {
   "cell_type": "markdown",
   "id": "070f5a70",
   "metadata": {},
   "source": [
    "Dataset: https://www.kaggle.com/datasets/simiotic/ethereum-nfts"
   ]
  },
  {
   "cell_type": "code",
   "execution_count": 3,
   "id": "a8865621",
   "metadata": {},
   "outputs": [
    {
     "name": "stdout",
     "output_type": "stream",
     "text": [
      "Requirement already satisfied: nfts in /opt/anaconda3/lib/python3.8/site-packages (0.0.2)\n",
      "Requirement already satisfied: humbug in /opt/anaconda3/lib/python3.8/site-packages (from nfts) (0.2.7)\n",
      "Requirement already satisfied: moonstreamdb in /opt/anaconda3/lib/python3.8/site-packages (from nfts) (0.2.5)\n",
      "Requirement already satisfied: requests in /opt/anaconda3/lib/python3.8/site-packages (from nfts) (2.25.1)\n",
      "Requirement already satisfied: web3 in /opt/anaconda3/lib/python3.8/site-packages (from nfts) (5.29.2)\n",
      "Requirement already satisfied: tqdm in /opt/anaconda3/lib/python3.8/site-packages (from nfts) (4.59.0)\n",
      "Requirement already satisfied: pandas in /opt/anaconda3/lib/python3.8/site-packages (from nfts) (1.2.4)\n",
      "Requirement already satisfied: alembic in /opt/anaconda3/lib/python3.8/site-packages (from moonstreamdb->nfts) (1.8.0)\n",
      "Requirement already satisfied: psycopg2-binary in /opt/anaconda3/lib/python3.8/site-packages (from moonstreamdb->nfts) (2.9.3)\n",
      "Requirement already satisfied: sqlalchemy in /opt/anaconda3/lib/python3.8/site-packages (from moonstreamdb->nfts) (1.4.7)\n",
      "Requirement already satisfied: Mako in /opt/anaconda3/lib/python3.8/site-packages (from alembic->moonstreamdb->nfts) (1.2.1)\n",
      "Requirement already satisfied: importlib-resources in /opt/anaconda3/lib/python3.8/site-packages (from alembic->moonstreamdb->nfts) (5.8.0)\n",
      "Requirement already satisfied: importlib-metadata in /Users/navyada/.local/lib/python3.8/site-packages (from alembic->moonstreamdb->nfts) (4.11.3)\n",
      "Requirement already satisfied: greenlet!=0.4.17 in /opt/anaconda3/lib/python3.8/site-packages (from sqlalchemy->moonstreamdb->nfts) (1.0.0)\n",
      "Requirement already satisfied: zipp>=0.5 in /opt/anaconda3/lib/python3.8/site-packages (from importlib-metadata->alembic->moonstreamdb->nfts) (3.4.1)\n",
      "Requirement already satisfied: MarkupSafe>=0.9.2 in /opt/anaconda3/lib/python3.8/site-packages (from Mako->alembic->moonstreamdb->nfts) (1.1.1)\n",
      "Requirement already satisfied: python-dateutil>=2.7.3 in /opt/anaconda3/lib/python3.8/site-packages (from pandas->nfts) (2.8.1)\n",
      "Requirement already satisfied: pytz>=2017.3 in /opt/anaconda3/lib/python3.8/site-packages (from pandas->nfts) (2021.1)\n",
      "Requirement already satisfied: numpy>=1.16.5 in /Users/navyada/.local/lib/python3.8/site-packages (from pandas->nfts) (1.23.0)\n",
      "Requirement already satisfied: six>=1.5 in /opt/anaconda3/lib/python3.8/site-packages (from python-dateutil>=2.7.3->pandas->nfts) (1.15.0)\n",
      "Requirement already satisfied: urllib3<1.27,>=1.21.1 in /opt/anaconda3/lib/python3.8/site-packages (from requests->nfts) (1.26.4)\n",
      "Requirement already satisfied: chardet<5,>=3.0.2 in /opt/anaconda3/lib/python3.8/site-packages (from requests->nfts) (4.0.0)\n",
      "Requirement already satisfied: certifi>=2017.4.17 in /opt/anaconda3/lib/python3.8/site-packages (from requests->nfts) (2020.12.5)\n",
      "Requirement already satisfied: idna<3,>=2.5 in /opt/anaconda3/lib/python3.8/site-packages (from requests->nfts) (2.10)\n",
      "Requirement already satisfied: protobuf<4,>=3.10.0 in /opt/anaconda3/lib/python3.8/site-packages (from web3->nfts) (3.19.4)\n",
      "Requirement already satisfied: eth-typing<3.0.0,>=2.0.0 in /opt/anaconda3/lib/python3.8/site-packages (from web3->nfts) (2.3.0)\n",
      "Requirement already satisfied: eth-account<0.6.0,>=0.5.7 in /opt/anaconda3/lib/python3.8/site-packages (from web3->nfts) (0.5.8)\n",
      "Requirement already satisfied: hexbytes<1.0.0,>=0.1.0 in /opt/anaconda3/lib/python3.8/site-packages (from web3->nfts) (0.2.2)\n",
      "Requirement already satisfied: eth-abi<3.0.0,>=2.0.0b6 in /opt/anaconda3/lib/python3.8/site-packages (from web3->nfts) (2.1.1)\n",
      "Requirement already satisfied: jsonschema<5,>=3.2.0 in /opt/anaconda3/lib/python3.8/site-packages (from web3->nfts) (3.2.0)\n",
      "Requirement already satisfied: websockets<10,>=9.1 in /opt/anaconda3/lib/python3.8/site-packages (from web3->nfts) (9.1)\n",
      "Requirement already satisfied: lru-dict<2.0.0,>=1.1.6 in /opt/anaconda3/lib/python3.8/site-packages (from web3->nfts) (1.1.7)\n",
      "Requirement already satisfied: eth-utils<2.0.0,>=1.9.5 in /opt/anaconda3/lib/python3.8/site-packages (from web3->nfts) (1.10.0)\n",
      "Requirement already satisfied: eth-hash[pycryptodome]<1.0.0,>=0.2.0 in /opt/anaconda3/lib/python3.8/site-packages (from web3->nfts) (0.3.3)\n",
      "Requirement already satisfied: ipfshttpclient==0.8.0a2 in /opt/anaconda3/lib/python3.8/site-packages (from web3->nfts) (0.8.0a2)\n",
      "Requirement already satisfied: aiohttp<4,>=3.7.4.post0 in /opt/anaconda3/lib/python3.8/site-packages (from web3->nfts) (3.8.1)\n",
      "Requirement already satisfied: multiaddr>=0.0.7 in /opt/anaconda3/lib/python3.8/site-packages (from ipfshttpclient==0.8.0a2->web3->nfts) (0.0.9)\n",
      "Requirement already satisfied: aiosignal>=1.1.2 in /opt/anaconda3/lib/python3.8/site-packages (from aiohttp<4,>=3.7.4.post0->web3->nfts) (1.2.0)\n",
      "Requirement already satisfied: yarl<2.0,>=1.0 in /opt/anaconda3/lib/python3.8/site-packages (from aiohttp<4,>=3.7.4.post0->web3->nfts) (1.7.2)\n",
      "Requirement already satisfied: attrs>=17.3.0 in /opt/anaconda3/lib/python3.8/site-packages (from aiohttp<4,>=3.7.4.post0->web3->nfts) (20.3.0)\n",
      "Requirement already satisfied: multidict<7.0,>=4.5 in /opt/anaconda3/lib/python3.8/site-packages (from aiohttp<4,>=3.7.4.post0->web3->nfts) (6.0.2)\n",
      "Requirement already satisfied: async-timeout<5.0,>=4.0.0a3 in /opt/anaconda3/lib/python3.8/site-packages (from aiohttp<4,>=3.7.4.post0->web3->nfts) (4.0.2)\n",
      "Requirement already satisfied: charset-normalizer<3.0,>=2.0 in /opt/anaconda3/lib/python3.8/site-packages (from aiohttp<4,>=3.7.4.post0->web3->nfts) (2.1.0)\n",
      "Requirement already satisfied: frozenlist>=1.1.1 in /opt/anaconda3/lib/python3.8/site-packages (from aiohttp<4,>=3.7.4.post0->web3->nfts) (1.3.0)\n",
      "Requirement already satisfied: parsimonious<0.9.0,>=0.8.0 in /opt/anaconda3/lib/python3.8/site-packages (from eth-abi<3.0.0,>=2.0.0b6->web3->nfts) (0.8.1)\n",
      "Requirement already satisfied: eth-keyfile<0.6.0,>=0.5.0 in /opt/anaconda3/lib/python3.8/site-packages (from eth-account<0.6.0,>=0.5.7->web3->nfts) (0.5.1)\n",
      "Requirement already satisfied: rlp<3,>=1.0.0 in /opt/anaconda3/lib/python3.8/site-packages (from eth-account<0.6.0,>=0.5.7->web3->nfts) (2.0.1)\n",
      "Requirement already satisfied: eth-rlp<2,>=0.1.2 in /opt/anaconda3/lib/python3.8/site-packages (from eth-account<0.6.0,>=0.5.7->web3->nfts) (0.2.1)\n",
      "Requirement already satisfied: eth-keys<0.4.0,>=0.3.4 in /opt/anaconda3/lib/python3.8/site-packages (from eth-account<0.6.0,>=0.5.7->web3->nfts) (0.3.4)\n",
      "Requirement already satisfied: bitarray<3,>=1.2.1 in /opt/anaconda3/lib/python3.8/site-packages (from eth-account<0.6.0,>=0.5.7->web3->nfts) (1.9.2)\n",
      "Requirement already satisfied: pycryptodome<4,>=3.6.6 in /opt/anaconda3/lib/python3.8/site-packages (from eth-hash[pycryptodome]<1.0.0,>=0.2.0->web3->nfts) (3.15.0)\n",
      "Requirement already satisfied: cytoolz<1.0.0,>=0.9.0 in /opt/anaconda3/lib/python3.8/site-packages (from eth-keyfile<0.6.0,>=0.5.0->eth-account<0.6.0,>=0.5.7->web3->nfts) (0.11.0)\n",
      "Requirement already satisfied: toolz>=0.8.0 in /opt/anaconda3/lib/python3.8/site-packages (from cytoolz<1.0.0,>=0.9.0->eth-keyfile<0.6.0,>=0.5.0->eth-account<0.6.0,>=0.5.7->web3->nfts) (0.11.1)\n",
      "Requirement already satisfied: pyrsistent>=0.14.0 in /opt/anaconda3/lib/python3.8/site-packages (from jsonschema<5,>=3.2.0->web3->nfts) (0.17.3)\n",
      "Requirement already satisfied: setuptools in /opt/anaconda3/lib/python3.8/site-packages (from jsonschema<5,>=3.2.0->web3->nfts) (52.0.0.post20210125)\n",
      "Requirement already satisfied: base58 in /opt/anaconda3/lib/python3.8/site-packages (from multiaddr>=0.0.7->ipfshttpclient==0.8.0a2->web3->nfts) (2.1.1)\n",
      "Requirement already satisfied: netaddr in /opt/anaconda3/lib/python3.8/site-packages (from multiaddr>=0.0.7->ipfshttpclient==0.8.0a2->web3->nfts) (0.8.0)\n",
      "Requirement already satisfied: varint in /opt/anaconda3/lib/python3.8/site-packages (from multiaddr>=0.0.7->ipfshttpclient==0.8.0a2->web3->nfts) (1.0.2)\n"
     ]
    }
   ],
   "source": [
    "!pip install nfts"
   ]
  },
  {
   "cell_type": "code",
   "execution_count": 4,
   "id": "0620cf09",
   "metadata": {},
   "outputs": [
    {
     "name": "stdout",
     "output_type": "stream",
     "text": [
      "Requirement already satisfied: opendatasets in /opt/anaconda3/lib/python3.8/site-packages (0.1.22)\n",
      "Requirement already satisfied: tqdm in /opt/anaconda3/lib/python3.8/site-packages (from opendatasets) (4.59.0)\n",
      "Requirement already satisfied: kaggle in /opt/anaconda3/lib/python3.8/site-packages (from opendatasets) (1.5.12)\n",
      "Requirement already satisfied: click in /opt/anaconda3/lib/python3.8/site-packages (from opendatasets) (7.1.2)\n",
      "Requirement already satisfied: certifi in /opt/anaconda3/lib/python3.8/site-packages (from kaggle->opendatasets) (2020.12.5)\n",
      "Requirement already satisfied: python-dateutil in /opt/anaconda3/lib/python3.8/site-packages (from kaggle->opendatasets) (2.8.1)\n",
      "Requirement already satisfied: requests in /opt/anaconda3/lib/python3.8/site-packages (from kaggle->opendatasets) (2.25.1)\n",
      "Requirement already satisfied: six>=1.10 in /opt/anaconda3/lib/python3.8/site-packages (from kaggle->opendatasets) (1.15.0)\n",
      "Requirement already satisfied: python-slugify in /opt/anaconda3/lib/python3.8/site-packages (from kaggle->opendatasets) (6.1.2)\n",
      "Requirement already satisfied: urllib3 in /opt/anaconda3/lib/python3.8/site-packages (from kaggle->opendatasets) (1.26.4)\n",
      "Requirement already satisfied: text-unidecode>=1.3 in /opt/anaconda3/lib/python3.8/site-packages (from python-slugify->kaggle->opendatasets) (1.3)\n",
      "Requirement already satisfied: chardet<5,>=3.0.2 in /opt/anaconda3/lib/python3.8/site-packages (from requests->kaggle->opendatasets) (4.0.0)\n",
      "Requirement already satisfied: idna<3,>=2.5 in /opt/anaconda3/lib/python3.8/site-packages (from requests->kaggle->opendatasets) (2.10)\n"
     ]
    }
   ],
   "source": [
    "!pip install opendatasets"
   ]
  },
  {
   "cell_type": "code",
   "execution_count": 29,
   "id": "00de27ec",
   "metadata": {},
   "outputs": [],
   "source": [
    "import os\n",
    "import sqlite3\n",
    "\n",
    "import matplotlib.pyplot as plt\n",
    "import nfts.dataset\n",
    "import numpy as np\n",
    "import pandas as pd\n",
    "import opendatasets as od\n",
    "from datetime import datetime\n",
    "from matplotlib import pyplot\n",
    "from scipy import stats"
   ]
  },
  {
   "cell_type": "code",
   "execution_count": 30,
   "id": "dc5700cd",
   "metadata": {},
   "outputs": [
    {
     "data": {
      "text/plain": [
       "['.DS_Store', 'nfts.sqlite 2']"
      ]
     },
     "execution_count": 30,
     "metadata": {},
     "output_type": "execute_result"
    }
   ],
   "source": [
    "os.listdir('ethereum-nfts')"
   ]
  },
  {
   "cell_type": "code",
   "execution_count": 31,
   "id": "c88dc182",
   "metadata": {},
   "outputs": [],
   "source": [
    "DATASET_PATH = \"ethereum-nfts/nfts.sqlite 2\""
   ]
  },
  {
   "cell_type": "code",
   "execution_count": 32,
   "id": "3f439a69",
   "metadata": {},
   "outputs": [],
   "source": [
    "ds = nfts.dataset.FromSQLite(DATASET_PATH)"
   ]
  },
  {
   "cell_type": "code",
   "execution_count": 33,
   "id": "cbcf25be",
   "metadata": {},
   "outputs": [
    {
     "name": "stdout",
     "output_type": "stream",
     "text": [
      "\n",
      "The Moonstream NFTs dataset\n",
      "===========================\n",
      "\n",
      "To load the NFTs dataset from a SQLite file, run:\n",
      ">>> ds = nfts.dataset.FromSQLite(<path to sqlite database>)\n",
      "\n",
      "This dataset consists of the following dataframes:\n",
      "\n",
      "Dataframe: nfts\n",
      "Load using:\n",
      "\tnfts_df = ds.load_dataframe(<sqlite connection or path to sqlite db>, \"nfts\")\n",
      "\n",
      "Describes the NFT contracts represented in this dataset, with a name and symbol if they were available at time of crawl.\n",
      "\n",
      "Columns:\n",
      "1. address: The Ethereum address of the NFT contract.\n",
      "2. name: The name of the collection of NFTs that the contract represents.\n",
      "3. symbol: The symbol of the collection of NFTs that the contract represents.\n",
      "\n",
      "- - -\n",
      "\n",
      "Dataframe: mints\n",
      "Load using:\n",
      "\tmints_df = ds.load_dataframe(<sqlite connection or path to sqlite db>, \"mints\")\n",
      "\n",
      "All token mint events crawled in this dataset.\n",
      "\n",
      "Columns:\n",
      "1. event_id: A unique event ID associated with the event.\n",
      "2. transaction_hash: The hash of the transaction which triggered the event.\n",
      "3. block_number: The transaction block in which the transaction was mined.\n",
      "4. nft_address: The address of the NFT collection containing the minted token.\n",
      "5. token_id: The ID of the token that was minted.\n",
      "6. from_address: The \"from\" address for the transfer event. For a mint, this should be the 0 address: 0x0000000000000000000000000000000000000000.\n",
      "7. to_address: The \"to\" address for the transfer event. This represents the owner of the freshly minted token.\n",
      "8. transaction_value: The amount of WEI that were sent with the transaction in which the token was minted.\n",
      "9. timestamp: The time at which the mint operation was mined into the blockchain (this is the timestamp for the mined block).\n",
      "\n",
      "- - -\n",
      "\n",
      "Dataframe: transfers\n",
      "Load using:\n",
      "\ttransfers_df = ds.load_dataframe(<sqlite connection or path to sqlite db>, \"transfers\")\n",
      "\n",
      "All token transfer events crawled in this dataset.\n",
      "\n",
      "Columns:\n",
      "1. event_id: A unique event ID associated with the event.\n",
      "2. transaction_hash: The hash of the transaction which triggered the event.\n",
      "3. block_number: The transaction block in which the transaction was mined.\n",
      "4. nft_address: The address of the NFT collection containing the transferred token.\n",
      "5. token_id: The ID of the token that was transferred.\n",
      "6. from_address: The \"from\" address for the transfer event. This is the address that owned the token at the *start* of the transfer.\n",
      "7. to_address: The \"to\" address for the transfer event. This is the address that owned the token at the *end* of the transfer.\n",
      "8. transaction_value: The amount of WEI that were sent with the transaction in which the token was transferred.\n",
      "9. timestamp: The time at which the transfer operation was mined into the blockchain (this is the timestamp for the mined block).\n",
      "\n",
      "- - -\n",
      "\n",
      "Dataframe: current_owners\n",
      "Load using:\n",
      "\tcurrent_owners_df = ds.load_dataframe(<sqlite connection or path to sqlite db>, \"current_owners\")\n",
      "\n",
      "This table is derived from the nfts, mints, and transfers tables. It represents the current owner of each token in the dataset.\n",
      "\n",
      "Columns:\n",
      "1. nft_address: The address of the NFT collection containing the token whose ownership we are denoting.\n",
      "2. token_id: The ID of the token (inside the collection) whose ownership we are denoting.\n",
      "3. owner: The address that owned the token at the time of construction of this dataset.\n",
      "\n",
      "- - -\n",
      "\n",
      "Dataframe: current_market_values\n",
      "Load using:\n",
      "\tcurrent_market_values_df = ds.load_dataframe(<sqlite connection or path to sqlite db>, \"current_market_values\")\n",
      "\n",
      "This table is derived from the nfts, mints, and transfers tables. It represents the current market value (in WEI) of each token in the dataset.\n",
      "\n",
      "Columns:\n",
      "1. nft_address: The address of the NFT collection containing the token whose market value we are denoting.\n",
      "2. token_id: The ID of the token (inside the collection) whose market value we are denoting.\n",
      "3. market_value: The estimated market value of the token at the time of construction of this dataset.\n",
      "\n",
      "For this dataset, we estimate the market value as the last non-zero transaction value for a transfer involving this token.\n",
      "This estimate may be inaccurate for some transfers (e.g. multiple token transfers made by an escrow contract in a single transaction)\n",
      "but ought to be reasonably accurate for a large majority of tokens.\n",
      "\n",
      "- - -\n",
      "\n",
      "Dataframe: transfer_statistics_by_address\n",
      "Load using:\n",
      "\ttransfer_statistics_by_address_df = ds.load_dataframe(<sqlite connection or path to sqlite db>, \"transfer_statistics_by_address\")\n",
      "\n",
      "This table is derived from the nfts, mints, and transfers tables. For each address that participated in\n",
      "at least one NFT transfer between April 1, 2021 and September 25, 2021, this table shows exactly how many NFTs that address transferred to\n",
      "other addresses and how many NFT transfers that address was the recipient of.\n",
      "\n",
      "Columns:\n",
      "1. address: An Ethereum address that participated in at least one NFT transfer between April 1, 2021 and September 25, 2021.\n",
      "2. transfers_out: The number of NFTs that the given address transferred to any other address between April 1, 2021 and September 25, 2021.\n",
      "3. transfers_in: The number of NFTs that any other address transferred to given address between April 1, 2021 and September 25, 2021.\n",
      "\n",
      "- - -\n"
     ]
    }
   ],
   "source": [
    "#Describe the dataset\n",
    "nfts.dataset.explain()"
   ]
  },
  {
   "cell_type": "code",
   "execution_count": 35,
   "id": "1e6f6053",
   "metadata": {},
   "outputs": [],
   "source": [
    "transfers_df = ds.load_dataframe(\"transfers\")"
   ]
  },
  {
   "cell_type": "code",
   "execution_count": null,
   "id": "a3683d90",
   "metadata": {
    "scrolled": true
   },
   "outputs": [],
   "source": [
    "transfers_df.head()"
   ]
  },
  {
   "cell_type": "markdown",
   "id": "fcfd36a3",
   "metadata": {},
   "source": [
    "# How Do NFT Transfers Relate to Time?"
   ]
  },
  {
   "cell_type": "code",
   "execution_count": 12,
   "id": "088cf6f9",
   "metadata": {},
   "outputs": [
    {
     "name": "stderr",
     "output_type": "stream",
     "text": [
      "INFO:numexpr.utils:NumExpr defaulting to 4 threads.\n"
     ]
    }
   ],
   "source": [
    "#removing transactions worth 0 ETH because 'they may include on-chain transactions that were paid with off-chain assets orthey may purely be a gift' - PwC\n",
    "transfers_df = transfers_df[transfers_df['transaction_value'] != 0]"
   ]
  },
  {
   "cell_type": "code",
   "execution_count": 13,
   "id": "c0267d88",
   "metadata": {},
   "outputs": [],
   "source": [
    "transfers_df2 = transfers_df.copy()"
   ]
  },
  {
   "cell_type": "code",
   "execution_count": 14,
   "id": "6df5de60",
   "metadata": {},
   "outputs": [],
   "source": [
    "#add \"date\" column to the dataframe - remove hour, minute, second data for easier plotting\n",
    "l = transfers_df2['timestamp'].to_list()"
   ]
  },
  {
   "cell_type": "code",
   "execution_count": 15,
   "id": "94c04369",
   "metadata": {},
   "outputs": [],
   "source": [
    "l2 = []\n",
    "for each in l:\n",
    "    j = datetime.fromtimestamp(each)\n",
    "    k = np.datetime64(j)\n",
    "    k = k.astype('datetime64[D]')\n",
    "    l2.append(k)"
   ]
  },
  {
   "cell_type": "code",
   "execution_count": 16,
   "id": "5ad9977a",
   "metadata": {},
   "outputs": [],
   "source": [
    "transfers_df2['date'] = l2"
   ]
  },
  {
   "cell_type": "code",
   "execution_count": 17,
   "id": "7710a2ba",
   "metadata": {},
   "outputs": [],
   "source": [
    "#group the transfers by the date they happened\n",
    "df2 = transfers_df2.groupby(['date'])['date'].count()"
   ]
  },
  {
   "cell_type": "code",
   "execution_count": 18,
   "id": "d956de4e",
   "metadata": {},
   "outputs": [],
   "source": [
    "df2 = df2.to_frame()\n",
    "df2 = df2.rename(columns={'date': 'count'})"
   ]
  },
  {
   "cell_type": "code",
   "execution_count": 140,
   "id": "ddfada66",
   "metadata": {
    "scrolled": true
   },
   "outputs": [
    {
     "data": {
      "text/plain": [
       "Text(0.5, 1.0, 'Number of NFT Transactions Each Day')"
      ]
     },
     "execution_count": 140,
     "metadata": {},
     "output_type": "execute_result"
    },
    {
     "data": {
      "image/png": "[encoded data removed]",
      "text/plain": [
       "<Figure size 432x288 with 1 Axes>"
      ]
     },
     "metadata": {
      "needs_background": "light"
     },
     "output_type": "display_data"
    }
   ],
   "source": [
    "#plot \n",
    "plt.plot(df2['count'])\n",
    "plt.xlabel('Date')\n",
    "plt.ylabel('Number of NFT Transactions')\n",
    "plt.title('Number of NFT Transactions Each Day', weight='bold', fontsize=14 )"
   ]
  },
  {
   "cell_type": "markdown",
   "id": "8a3a88d5",
   "metadata": {},
   "source": [
    "The number of transactions grew quite rapidly in Q2 and Q3 of 2021. "
   ]
  },
  {
   "cell_type": "markdown",
   "id": "16c01905",
   "metadata": {},
   "source": [
    "# How Does Transaction Value Change With Each Transfer?"
   ]
  },
  {
   "cell_type": "code",
   "execution_count": 90,
   "id": "8c134aa1",
   "metadata": {},
   "outputs": [],
   "source": [
    "transfers_df = ds.load_dataframe(\"transfers\")"
   ]
  },
  {
   "cell_type": "code",
   "execution_count": 91,
   "id": "7967c383",
   "metadata": {},
   "outputs": [],
   "source": [
    "#removing transactions worth 0 ETH because 'they may include on-chain transactions that were paid with off-chain assets orthey may purely be a gift' - PwC\n",
    "transfers_df1 = transfers_df[transfers_df['transaction_value'] != 0]"
   ]
  },
  {
   "cell_type": "code",
   "execution_count": 92,
   "id": "b3a04120",
   "metadata": {},
   "outputs": [],
   "source": [
    "#select nft/token combos that have been transferred 5 or more times \n",
    "trans_count = transfers_df1.groupby(['nft_address', 'token_id'])['token_id'].count()\n",
    "trans_count = trans_count.to_frame()\n",
    "trans_count = trans_count.rename(columns={'token_id': 'count'})\n",
    "trans_count.reset_index(inplace=True)\n",
    "trans_5 = trans_count[trans_count['count'] >= 5]"
   ]
  },
  {
   "cell_type": "code",
   "execution_count": 93,
   "id": "bdc742af",
   "metadata": {},
   "outputs": [],
   "source": [
    "tran_rep = transfers_df1.sort_values(['nft_address', 'token_id']).copy()"
   ]
  },
  {
   "cell_type": "code",
   "execution_count": 94,
   "id": "61a5e858",
   "metadata": {},
   "outputs": [],
   "source": [
    "trans_5 = trans_5.sort_values(['nft_address', 'token_id'])"
   ]
  },
  {
   "cell_type": "code",
   "execution_count": 95,
   "id": "65c64cea",
   "metadata": {},
   "outputs": [],
   "source": [
    "#all data for nfts that were transferred 5 or more times \n",
    "joined = pd.merge(tran_rep, trans_5, on=['nft_address', 'token_id'], how='right')"
   ]
  },
  {
   "cell_type": "code",
   "execution_count": 96,
   "id": "3e7da4f9",
   "metadata": {},
   "outputs": [],
   "source": [
    "#find averages for the transaction values for the first 5 times an nft was transferred\n",
    "joined= joined.sort_values(['nft_address', 'token_id', 'timestamp'])"
   ]
  },
  {
   "cell_type": "code",
   "execution_count": 97,
   "id": "8e77a9b2",
   "metadata": {},
   "outputs": [],
   "source": [
    "joined['Counter'] = joined.groupby(['nft_address', 'token_id']).cumcount()+1\n",
    "joined = joined.drop('count', axis=1)"
   ]
  },
  {
   "cell_type": "code",
   "execution_count": 98,
   "id": "83074be0",
   "metadata": {},
   "outputs": [],
   "source": [
    "avg1 = joined[joined['Counter'] == 1]['transaction_value'].mean()\n",
    "avg2 = joined[joined['Counter'] == 2]['transaction_value'].mean()\n",
    "avg3 = joined[joined['Counter'] == 3]['transaction_value'].mean()\n",
    "avg4 = joined[joined['Counter'] == 4]['transaction_value'].mean()\n",
    "avg5 = joined[joined['Counter'] == 5]['transaction_value'].mean()\n"
   ]
  },
  {
   "cell_type": "code",
   "execution_count": 103,
   "id": "9c3326b4",
   "metadata": {
    "scrolled": false
   },
   "outputs": [
    {
     "data": {
      "text/plain": [
       "([<matplotlib.axis.XTick at 0x29663d0a0>,\n",
       "  <matplotlib.axis.XTick at 0x29663dc10>,\n",
       "  <matplotlib.axis.XTick at 0x24a2f0f40>,\n",
       "  <matplotlib.axis.XTick at 0x266defbe0>,\n",
       "  <matplotlib.axis.XTick at 0x266def220>],\n",
       " [Text(0, 0, ''),\n",
       "  Text(0, 0, ''),\n",
       "  Text(0, 0, ''),\n",
       "  Text(0, 0, ''),\n",
       "  Text(0, 0, '')])"
      ]
     },
     "execution_count": 103,
     "metadata": {},
     "output_type": "execute_result"
    },
    {
     "data": {
      "image/png": "[encoded data removed]",
      "text/plain": [
       "<Figure size 432x288 with 1 Axes>"
      ]
     },
     "metadata": {
      "needs_background": "light"
     },
     "output_type": "display_data"
    }
   ],
   "source": [
    "#plot \n",
    "x = [1, 2, 3, 4, 5]\n",
    "y = [avg1, avg2, avg3, avg4, avg5]\n",
    "y = [item/10**18 for item in y]\n",
    "plt.scatter(x, y)\n",
    "plt.xlabel('# transfer')\n",
    "plt.ylabel('Average Transaction Value in ETH')\n",
    "plt.title('Average Transaction Value After Multiple Transfers', weight='bold', fontsize = 14)\n",
    "plt.xticks( range(1,6,1) )"
   ]
  },
  {
   "cell_type": "code",
   "execution_count": 101,
   "id": "adcaa959",
   "metadata": {},
   "outputs": [
    {
     "name": "stdout",
     "output_type": "stream",
     "text": [
      "0.49209170727236945\n",
      "0.8574284923410727\n",
      "1.382205155013636\n",
      "2.123821457402826\n",
      "3.086148205116261\n"
     ]
    }
   ],
   "source": [
    "print(avg1/10**18)\n",
    "print(avg2/10**18)\n",
    "print(avg3/10**18)\n",
    "print(avg4/10**18)\n",
    "print(avg5/10**18)"
   ]
  },
  {
   "cell_type": "markdown",
   "id": "52f01741",
   "metadata": {},
   "source": [
    "Plot shows that NFT value increases each time it is transfered. This suggests that valuable NFTs are transfered more often. "
   ]
  },
  {
   "cell_type": "markdown",
   "id": "99cb4a0a",
   "metadata": {},
   "source": [
    "\n",
    "\n",
    "\n",
    "\n",
    "# Are There NFTs That Lose Value Over Time?"
   ]
  },
  {
   "cell_type": "code",
   "execution_count": 263,
   "id": "11a597fe",
   "metadata": {},
   "outputs": [],
   "source": [
    "joined.reset_index(inplace=True)"
   ]
  },
  {
   "cell_type": "code",
   "execution_count": 167,
   "id": "104f6779",
   "metadata": {},
   "outputs": [],
   "source": [
    "difference = joined['transaction_value'].diff()\n",
    "joined['value_difference'] = difference\n",
    "joined.loc[joined.Counter == 1, 'value_difference'] = 0"
   ]
  },
  {
   "cell_type": "code",
   "execution_count": 168,
   "id": "640d9b7b",
   "metadata": {},
   "outputs": [],
   "source": [
    "joined['depreciated'] = [0] * 71384\n",
    "joined.loc[joined.value_difference < 0, 'depreciated'] = True\n",
    "joined.loc[joined.value_difference >= 0, 'depreciated'] = False"
   ]
  },
  {
   "cell_type": "code",
   "execution_count": 193,
   "id": "3545c008",
   "metadata": {},
   "outputs": [],
   "source": [
    "grouped_dep = joined.groupby(['nft_address', 'token_id'])['depreciated'].sum()\n",
    "grouped_dep = grouped_dep.to_frame()\n",
    "grouped_dep.reset_index(inplace=True)\n",
    "grouped_count = joined.groupby(['nft_address', 'token_id']).size()\n",
    "grouped_count = grouped_count.to_frame()\n",
    "grouped_count.reset_index(inplace=True)\n",
    "grouped_count.columns = ['nft_address', 'token_id', 'num_trans']"
   ]
  },
  {
   "cell_type": "code",
   "execution_count": 200,
   "id": "23fa3718",
   "metadata": {},
   "outputs": [],
   "source": [
    "grouped = pd.merge(grouped_count, grouped_dep, on=['nft_address', 'token_id'] )"
   ]
  },
  {
   "cell_type": "code",
   "execution_count": 201,
   "id": "1f21595a",
   "metadata": {},
   "outputs": [],
   "source": [
    "grouped_over_half = grouped[grouped['depreciated'] > grouped['num_trans']//2 ]"
   ]
  },
  {
   "cell_type": "code",
   "execution_count": 254,
   "id": "1e629b3c",
   "metadata": {},
   "outputs": [],
   "source": [
    "collections = grouped_over_half.groupby('nft_address').size().to_frame()\n",
    "collections.reset_index(inplace=True)\n",
    "collections.columns = ['nft_address', 'count']\n",
    "collections.sort_values('count', ascending=False, inplace=True)\n",
    "col_40 = collections.iloc[0:40, :].copy()\n",
    "col_40['type'] = ['art','art', 'text', 'art', 'art', 'avatar', 'art', 'art','DAO','avatar', 'membership', 'art', 'avatar', 'membership', 'membership', 'art', 'art', 'membership', 'art', 'text', 'membership', 'art', 'art', 'charity', 'membership', 'art', 'art', 'art', 'art', 'DAO', 'text', 'art', 'avatar', 'text', 'art', 'art', 'art', 'art', 'art', 'art']"
   ]
  },
  {
   "cell_type": "code",
   "execution_count": 264,
   "id": "0c2e8adc",
   "metadata": {},
   "outputs": [
    {
     "name": "stdout",
     "output_type": "stream",
     "text": [
      "         type  count\n",
      "1         art     23\n",
      "4  membership      6\n",
      "2      avatar      4\n",
      "5        text      4\n",
      "0         DAO      2\n",
      "3     charity      1\n"
     ]
    },
    {
     "data": {
      "text/plain": [
       "Text(0.5, 1.0, 'Types of NFT Collections That Consistently Lost Value When Transferred (Top 40)')"
      ]
     },
     "execution_count": 264,
     "metadata": {},
     "output_type": "execute_result"
    },
    {
     "data": {
      "image/png": "[encoded data removed]",
      "text/plain": [
       "<Figure size 432x288 with 1 Axes>"
      ]
     },
     "metadata": {
      "needs_background": "light"
     },
     "output_type": "display_data"
    }
   ],
   "source": [
    "coll_count = col_40.groupby('type')['type'].count().to_frame()\n",
    "coll_count.columns = ['count']\n",
    "coll_count.reset_index(inplace=True)\n",
    "coll_count.sort_values('count', ascending=False, inplace=True)\n",
    "print(coll_count)\n",
    "plt.bar(coll_count['type'], coll_count['count'])\n",
    "plt.title('Types of NFT Collections That Consistently Lost Value When Transferred (Top 40)', weight='bold', fontsize=14)"
   ]
  },
  {
   "cell_type": "markdown",
   "id": "8ad9da2d",
   "metadata": {},
   "source": [
    "This is difficult to draw real conclusions from, since majority of NFT collections are art collections and the global proportions are unknown. These categories were found manually and have some overlap as well (especially between art and membership). I attempted to find other correlations between the collections that lost value between transactions but could not find any. Another aspect to explore will be the relation of time to depreciation.  "
   ]
  },
  {
   "cell_type": "markdown",
   "id": "2060df43",
   "metadata": {},
   "source": [
    "# What Amount of Mints Are Actually Sold?  "
   ]
  },
  {
   "cell_type": "code",
   "execution_count": 36,
   "id": "8b06e158",
   "metadata": {},
   "outputs": [],
   "source": [
    "mints_df = ds.load_dataframe(\"mints\")"
   ]
  },
  {
   "cell_type": "code",
   "execution_count": 122,
   "id": "be00b5d6",
   "metadata": {},
   "outputs": [
    {
     "data": {
      "text/html": [
       "<div>\n",
       "<style scoped>\n",
       "    .dataframe tbody tr th:only-of-type {\n",
       "        vertical-align: middle;\n",
       "    }\n",
       "\n",
       "    .dataframe tbody tr th {\n",
       "        vertical-align: top;\n",
       "    }\n",
       "\n",
       "    .dataframe thead th {\n",
       "        text-align: right;\n",
       "    }\n",
       "</style>\n",
       "<table border=\"1\" class=\"dataframe\">\n",
       "  <thead>\n",
       "    <tr style=\"text-align: right;\">\n",
       "      <th></th>\n",
       "      <th>event_id</th>\n",
       "      <th>transaction_hash</th>\n",
       "      <th>block_number</th>\n",
       "      <th>nft_address</th>\n",
       "      <th>token_id</th>\n",
       "      <th>from_address</th>\n",
       "      <th>to_address</th>\n",
       "      <th>transaction_value</th>\n",
       "      <th>timestamp</th>\n",
       "    </tr>\n",
       "  </thead>\n",
       "  <tbody>\n",
       "    <tr>\n",
       "      <th>0</th>\n",
       "      <td>6c6d226e-2096-4b50-ac3f-f7078ca3a0c2</td>\n",
       "      <td>0xe47ac62111db3a6de2957394944501feb7d55cbef00a...</td>\n",
       "      <td>12936415</td>\n",
       "      <td>0x02AA731631c6D7F8241d74F906f5b51724Ab98F8</td>\n",
       "      <td>3223</td>\n",
       "      <td>0x0000000000000000000000000000000000000000</td>\n",
       "      <td>0x8D745Fb3311cC86ED52C177dA0d039C1862F3e13</td>\n",
       "      <td>0.000000e+00</td>\n",
       "      <td>1627776933</td>\n",
       "    </tr>\n",
       "    <tr>\n",
       "      <th>1</th>\n",
       "      <td>263c923f-4db9-4d81-a547-27e1fe5ec405</td>\n",
       "      <td>0xe47ac62111db3a6de2957394944501feb7d55cbef00a...</td>\n",
       "      <td>12936415</td>\n",
       "      <td>0x02AA731631c6D7F8241d74F906f5b51724Ab98F8</td>\n",
       "      <td>5077</td>\n",
       "      <td>0x0000000000000000000000000000000000000000</td>\n",
       "      <td>0x8D745Fb3311cC86ED52C177dA0d039C1862F3e13</td>\n",
       "      <td>0.000000e+00</td>\n",
       "      <td>1627776933</td>\n",
       "    </tr>\n",
       "    <tr>\n",
       "      <th>2</th>\n",
       "      <td>8baa8502-42f9-453e-824a-ad504045c9c5</td>\n",
       "      <td>0xe47ac62111db3a6de2957394944501feb7d55cbef00a...</td>\n",
       "      <td>12936415</td>\n",
       "      <td>0x02AA731631c6D7F8241d74F906f5b51724Ab98F8</td>\n",
       "      <td>5070</td>\n",
       "      <td>0x0000000000000000000000000000000000000000</td>\n",
       "      <td>0x8D745Fb3311cC86ED52C177dA0d039C1862F3e13</td>\n",
       "      <td>0.000000e+00</td>\n",
       "      <td>1627776933</td>\n",
       "    </tr>\n",
       "    <tr>\n",
       "      <th>3</th>\n",
       "      <td>364ee658-ff31-4d0a-a7a7-60d3d7822772</td>\n",
       "      <td>0xe47ac62111db3a6de2957394944501feb7d55cbef00a...</td>\n",
       "      <td>12936415</td>\n",
       "      <td>0x02AA731631c6D7F8241d74F906f5b51724Ab98F8</td>\n",
       "      <td>3757</td>\n",
       "      <td>0x0000000000000000000000000000000000000000</td>\n",
       "      <td>0x8D745Fb3311cC86ED52C177dA0d039C1862F3e13</td>\n",
       "      <td>0.000000e+00</td>\n",
       "      <td>1627776933</td>\n",
       "    </tr>\n",
       "    <tr>\n",
       "      <th>4</th>\n",
       "      <td>58d3adc3-03d2-4e7b-b02c-47957c1f5752</td>\n",
       "      <td>0xd44be17c0298717ce001843069b0a2ca08b577fa2b33...</td>\n",
       "      <td>12936414</td>\n",
       "      <td>0x57f1887a8BF19b14fC0dF6Fd9B2acc9Af147eA85</td>\n",
       "      <td>3252202771441387673917605047769619801375983664...</td>\n",
       "      <td>0x0000000000000000000000000000000000000000</td>\n",
       "      <td>0x283Af0B28c62C092C9727F1Ee09c02CA627EB7F5</td>\n",
       "      <td>2.251726e+15</td>\n",
       "      <td>1627776925</td>\n",
       "    </tr>\n",
       "    <tr>\n",
       "      <th>...</th>\n",
       "      <td>...</td>\n",
       "      <td>...</td>\n",
       "      <td>...</td>\n",
       "      <td>...</td>\n",
       "      <td>...</td>\n",
       "      <td>...</td>\n",
       "      <td>...</td>\n",
       "      <td>...</td>\n",
       "      <td>...</td>\n",
       "    </tr>\n",
       "    <tr>\n",
       "      <th>6667277</th>\n",
       "      <td>83c90d6c-4ac8-4848-9037-552f3130ba71</td>\n",
       "      <td>0x9af041dbe1c586e705d96bc9a30a9c1dce38644f54e4...</td>\n",
       "      <td>12545208</td>\n",
       "      <td>0x375ea781c49EaFEdDE07AFe6196f885761f166Ae</td>\n",
       "      <td>17217</td>\n",
       "      <td>0x0000000000000000000000000000000000000000</td>\n",
       "      <td>0xf459B83f676467e55Ed557a45B1E64569450F051</td>\n",
       "      <td>1.000000e+18</td>\n",
       "      <td>1622505415</td>\n",
       "    </tr>\n",
       "    <tr>\n",
       "      <th>6667278</th>\n",
       "      <td>ada32bbd-bdc0-498c-9150-1d4514987dd1</td>\n",
       "      <td>0x9af041dbe1c586e705d96bc9a30a9c1dce38644f54e4...</td>\n",
       "      <td>12545208</td>\n",
       "      <td>0x375ea781c49EaFEdDE07AFe6196f885761f166Ae</td>\n",
       "      <td>17218</td>\n",
       "      <td>0x0000000000000000000000000000000000000000</td>\n",
       "      <td>0xf459B83f676467e55Ed557a45B1E64569450F051</td>\n",
       "      <td>1.000000e+18</td>\n",
       "      <td>1622505415</td>\n",
       "    </tr>\n",
       "    <tr>\n",
       "      <th>6667279</th>\n",
       "      <td>ce45c59b-f79d-49cf-9087-cb216705c970</td>\n",
       "      <td>0x9af041dbe1c586e705d96bc9a30a9c1dce38644f54e4...</td>\n",
       "      <td>12545208</td>\n",
       "      <td>0x375ea781c49EaFEdDE07AFe6196f885761f166Ae</td>\n",
       "      <td>17219</td>\n",
       "      <td>0x0000000000000000000000000000000000000000</td>\n",
       "      <td>0xf459B83f676467e55Ed557a45B1E64569450F051</td>\n",
       "      <td>1.000000e+18</td>\n",
       "      <td>1622505415</td>\n",
       "    </tr>\n",
       "    <tr>\n",
       "      <th>6667280</th>\n",
       "      <td>3eba4e0a-42aa-482e-882a-2b81dc399c1b</td>\n",
       "      <td>0x9af041dbe1c586e705d96bc9a30a9c1dce38644f54e4...</td>\n",
       "      <td>12545208</td>\n",
       "      <td>0x375ea781c49EaFEdDE07AFe6196f885761f166Ae</td>\n",
       "      <td>17220</td>\n",
       "      <td>0x0000000000000000000000000000000000000000</td>\n",
       "      <td>0xf459B83f676467e55Ed557a45B1E64569450F051</td>\n",
       "      <td>1.000000e+18</td>\n",
       "      <td>1622505415</td>\n",
       "    </tr>\n",
       "    <tr>\n",
       "      <th>6667281</th>\n",
       "      <td>885f74cc-9502-43f7-9f5d-93a922438989</td>\n",
       "      <td>0x9af041dbe1c586e705d96bc9a30a9c1dce38644f54e4...</td>\n",
       "      <td>12545208</td>\n",
       "      <td>0x375ea781c49EaFEdDE07AFe6196f885761f166Ae</td>\n",
       "      <td>17221</td>\n",
       "      <td>0x0000000000000000000000000000000000000000</td>\n",
       "      <td>0xf459B83f676467e55Ed557a45B1E64569450F051</td>\n",
       "      <td>1.000000e+18</td>\n",
       "      <td>1622505415</td>\n",
       "    </tr>\n",
       "  </tbody>\n",
       "</table>\n",
       "<p>6667282 rows × 9 columns</p>\n",
       "</div>"
      ],
      "text/plain": [
       "                                     event_id  \\\n",
       "0        6c6d226e-2096-4b50-ac3f-f7078ca3a0c2   \n",
       "1        263c923f-4db9-4d81-a547-27e1fe5ec405   \n",
       "2        8baa8502-42f9-453e-824a-ad504045c9c5   \n",
       "3        364ee658-ff31-4d0a-a7a7-60d3d7822772   \n",
       "4        58d3adc3-03d2-4e7b-b02c-47957c1f5752   \n",
       "...                                       ...   \n",
       "6667277  83c90d6c-4ac8-4848-9037-552f3130ba71   \n",
       "6667278  ada32bbd-bdc0-498c-9150-1d4514987dd1   \n",
       "6667279  ce45c59b-f79d-49cf-9087-cb216705c970   \n",
       "6667280  3eba4e0a-42aa-482e-882a-2b81dc399c1b   \n",
       "6667281  885f74cc-9502-43f7-9f5d-93a922438989   \n",
       "\n",
       "                                          transaction_hash  block_number  \\\n",
       "0        0xe47ac62111db3a6de2957394944501feb7d55cbef00a...      12936415   \n",
       "1        0xe47ac62111db3a6de2957394944501feb7d55cbef00a...      12936415   \n",
       "2        0xe47ac62111db3a6de2957394944501feb7d55cbef00a...      12936415   \n",
       "3        0xe47ac62111db3a6de2957394944501feb7d55cbef00a...      12936415   \n",
       "4        0xd44be17c0298717ce001843069b0a2ca08b577fa2b33...      12936414   \n",
       "...                                                    ...           ...   \n",
       "6667277  0x9af041dbe1c586e705d96bc9a30a9c1dce38644f54e4...      12545208   \n",
       "6667278  0x9af041dbe1c586e705d96bc9a30a9c1dce38644f54e4...      12545208   \n",
       "6667279  0x9af041dbe1c586e705d96bc9a30a9c1dce38644f54e4...      12545208   \n",
       "6667280  0x9af041dbe1c586e705d96bc9a30a9c1dce38644f54e4...      12545208   \n",
       "6667281  0x9af041dbe1c586e705d96bc9a30a9c1dce38644f54e4...      12545208   \n",
       "\n",
       "                                        nft_address  \\\n",
       "0        0x02AA731631c6D7F8241d74F906f5b51724Ab98F8   \n",
       "1        0x02AA731631c6D7F8241d74F906f5b51724Ab98F8   \n",
       "2        0x02AA731631c6D7F8241d74F906f5b51724Ab98F8   \n",
       "3        0x02AA731631c6D7F8241d74F906f5b51724Ab98F8   \n",
       "4        0x57f1887a8BF19b14fC0dF6Fd9B2acc9Af147eA85   \n",
       "...                                             ...   \n",
       "6667277  0x375ea781c49EaFEdDE07AFe6196f885761f166Ae   \n",
       "6667278  0x375ea781c49EaFEdDE07AFe6196f885761f166Ae   \n",
       "6667279  0x375ea781c49EaFEdDE07AFe6196f885761f166Ae   \n",
       "6667280  0x375ea781c49EaFEdDE07AFe6196f885761f166Ae   \n",
       "6667281  0x375ea781c49EaFEdDE07AFe6196f885761f166Ae   \n",
       "\n",
       "                                                  token_id  \\\n",
       "0                                                     3223   \n",
       "1                                                     5077   \n",
       "2                                                     5070   \n",
       "3                                                     3757   \n",
       "4        3252202771441387673917605047769619801375983664...   \n",
       "...                                                    ...   \n",
       "6667277                                              17217   \n",
       "6667278                                              17218   \n",
       "6667279                                              17219   \n",
       "6667280                                              17220   \n",
       "6667281                                              17221   \n",
       "\n",
       "                                       from_address  \\\n",
       "0        0x0000000000000000000000000000000000000000   \n",
       "1        0x0000000000000000000000000000000000000000   \n",
       "2        0x0000000000000000000000000000000000000000   \n",
       "3        0x0000000000000000000000000000000000000000   \n",
       "4        0x0000000000000000000000000000000000000000   \n",
       "...                                             ...   \n",
       "6667277  0x0000000000000000000000000000000000000000   \n",
       "6667278  0x0000000000000000000000000000000000000000   \n",
       "6667279  0x0000000000000000000000000000000000000000   \n",
       "6667280  0x0000000000000000000000000000000000000000   \n",
       "6667281  0x0000000000000000000000000000000000000000   \n",
       "\n",
       "                                         to_address  transaction_value  \\\n",
       "0        0x8D745Fb3311cC86ED52C177dA0d039C1862F3e13       0.000000e+00   \n",
       "1        0x8D745Fb3311cC86ED52C177dA0d039C1862F3e13       0.000000e+00   \n",
       "2        0x8D745Fb3311cC86ED52C177dA0d039C1862F3e13       0.000000e+00   \n",
       "3        0x8D745Fb3311cC86ED52C177dA0d039C1862F3e13       0.000000e+00   \n",
       "4        0x283Af0B28c62C092C9727F1Ee09c02CA627EB7F5       2.251726e+15   \n",
       "...                                             ...                ...   \n",
       "6667277  0xf459B83f676467e55Ed557a45B1E64569450F051       1.000000e+18   \n",
       "6667278  0xf459B83f676467e55Ed557a45B1E64569450F051       1.000000e+18   \n",
       "6667279  0xf459B83f676467e55Ed557a45B1E64569450F051       1.000000e+18   \n",
       "6667280  0xf459B83f676467e55Ed557a45B1E64569450F051       1.000000e+18   \n",
       "6667281  0xf459B83f676467e55Ed557a45B1E64569450F051       1.000000e+18   \n",
       "\n",
       "          timestamp  \n",
       "0        1627776933  \n",
       "1        1627776933  \n",
       "2        1627776933  \n",
       "3        1627776933  \n",
       "4        1627776925  \n",
       "...             ...  \n",
       "6667277  1622505415  \n",
       "6667278  1622505415  \n",
       "6667279  1622505415  \n",
       "6667280  1622505415  \n",
       "6667281  1622505415  \n",
       "\n",
       "[6667282 rows x 9 columns]"
      ]
     },
     "execution_count": 122,
     "metadata": {},
     "output_type": "execute_result"
    }
   ],
   "source": [
    "mints_df"
   ]
  },
  {
   "cell_type": "code",
   "execution_count": null,
   "id": "5b947f37",
   "metadata": {},
   "outputs": [],
   "source": [
    "nfts_df = ds.load_dataframe(\"nfts\")"
   ]
  },
  {
   "cell_type": "code",
   "execution_count": 9,
   "id": "754a5357",
   "metadata": {},
   "outputs": [
    {
     "data": {
      "text/html": [
       "<div>\n",
       "<style scoped>\n",
       "    .dataframe tbody tr th:only-of-type {\n",
       "        vertical-align: middle;\n",
       "    }\n",
       "\n",
       "    .dataframe tbody tr th {\n",
       "        vertical-align: top;\n",
       "    }\n",
       "\n",
       "    .dataframe thead th {\n",
       "        text-align: right;\n",
       "    }\n",
       "</style>\n",
       "<table border=\"1\" class=\"dataframe\">\n",
       "  <thead>\n",
       "    <tr style=\"text-align: right;\">\n",
       "      <th></th>\n",
       "      <th>address</th>\n",
       "      <th>name</th>\n",
       "      <th>symbol</th>\n",
       "    </tr>\n",
       "  </thead>\n",
       "  <tbody>\n",
       "    <tr>\n",
       "      <th>0</th>\n",
       "      <td>0xF4ee95274741437636e748DdAc70818B4ED7d043</td>\n",
       "      <td>The Doge Pound</td>\n",
       "      <td>DOGGY</td>\n",
       "    </tr>\n",
       "    <tr>\n",
       "      <th>1</th>\n",
       "      <td>0xba30E5F9Bb24caa003E9f2f0497Ad287FDF95623</td>\n",
       "      <td>BoredApeKennelClub</td>\n",
       "      <td>BAKC</td>\n",
       "    </tr>\n",
       "    <tr>\n",
       "      <th>2</th>\n",
       "      <td>0x7403AC30DE7309a0bF019cdA8EeC034a5507cbB3</td>\n",
       "      <td>Characters</td>\n",
       "      <td>CHAR</td>\n",
       "    </tr>\n",
       "    <tr>\n",
       "      <th>3</th>\n",
       "      <td>0x511372B44231a31527025a3D273C1dc0a83D77aF</td>\n",
       "      <td>Maps Restored</td>\n",
       "      <td>MAP</td>\n",
       "    </tr>\n",
       "    <tr>\n",
       "      <th>4</th>\n",
       "      <td>0x2E956Ed3D7337F4Ed4316A6e8F2EdF74BF84bb54</td>\n",
       "      <td>Neon Junkies</td>\n",
       "      <td>JUNKIES</td>\n",
       "    </tr>\n",
       "    <tr>\n",
       "      <th>...</th>\n",
       "      <td>...</td>\n",
       "      <td>...</td>\n",
       "      <td>...</td>\n",
       "    </tr>\n",
       "    <tr>\n",
       "      <th>9383</th>\n",
       "      <td>0x848433E170d7b253e8004415643260f18e36fA40</td>\n",
       "      <td>Fredrick and Penny</td>\n",
       "      <td>FNPBJ</td>\n",
       "    </tr>\n",
       "    <tr>\n",
       "      <th>9384</th>\n",
       "      <td>0xb5dc78d106cb4540ca945DC1fabC63845198f3F0</td>\n",
       "      <td>SH Minter</td>\n",
       "      <td>SH</td>\n",
       "    </tr>\n",
       "    <tr>\n",
       "      <th>9385</th>\n",
       "      <td>0x053bf84359415542E9d65138d1bC0dD0d01e10F7</td>\n",
       "      <td>NFT - 3</td>\n",
       "      <td>NFT3</td>\n",
       "    </tr>\n",
       "    <tr>\n",
       "      <th>9386</th>\n",
       "      <td>0xc1a8621eFdeF8E2173435Af416ac18D858ECaF49</td>\n",
       "      <td>Pedro Ferreira</td>\n",
       "      <td>PF</td>\n",
       "    </tr>\n",
       "    <tr>\n",
       "      <th>9387</th>\n",
       "      <td>0x766ECB7760D6d2F70b249c5FD25535Efc4A0758B</td>\n",
       "      <td>Empire Distribution, Records And Publishing Inc.</td>\n",
       "      <td>EMPR</td>\n",
       "    </tr>\n",
       "  </tbody>\n",
       "</table>\n",
       "<p>9388 rows × 3 columns</p>\n",
       "</div>"
      ],
      "text/plain": [
       "                                         address  \\\n",
       "0     0xF4ee95274741437636e748DdAc70818B4ED7d043   \n",
       "1     0xba30E5F9Bb24caa003E9f2f0497Ad287FDF95623   \n",
       "2     0x7403AC30DE7309a0bF019cdA8EeC034a5507cbB3   \n",
       "3     0x511372B44231a31527025a3D273C1dc0a83D77aF   \n",
       "4     0x2E956Ed3D7337F4Ed4316A6e8F2EdF74BF84bb54   \n",
       "...                                          ...   \n",
       "9383  0x848433E170d7b253e8004415643260f18e36fA40   \n",
       "9384  0xb5dc78d106cb4540ca945DC1fabC63845198f3F0   \n",
       "9385  0x053bf84359415542E9d65138d1bC0dD0d01e10F7   \n",
       "9386  0xc1a8621eFdeF8E2173435Af416ac18D858ECaF49   \n",
       "9387  0x766ECB7760D6d2F70b249c5FD25535Efc4A0758B   \n",
       "\n",
       "                                                  name   symbol  \n",
       "0                                       The Doge Pound    DOGGY  \n",
       "1                                   BoredApeKennelClub     BAKC  \n",
       "2                                           Characters     CHAR  \n",
       "3                                        Maps Restored      MAP  \n",
       "4                                         Neon Junkies  JUNKIES  \n",
       "...                                                ...      ...  \n",
       "9383                                Fredrick and Penny    FNPBJ  \n",
       "9384                                         SH Minter       SH  \n",
       "9385                                           NFT - 3     NFT3  \n",
       "9386                                    Pedro Ferreira       PF  \n",
       "9387  Empire Distribution, Records And Publishing Inc.     EMPR  \n",
       "\n",
       "[9388 rows x 3 columns]"
      ]
     },
     "execution_count": 9,
     "metadata": {},
     "output_type": "execute_result"
    }
   ],
   "source": [
    "nfts_df"
   ]
  },
  {
   "cell_type": "code",
   "execution_count": 37,
   "id": "43825aed",
   "metadata": {},
   "outputs": [],
   "source": [
    "tran = transfers_df.iloc[:, 3:5].drop_duplicates()\n",
    "mi2 = mints_df.merge(tran, on=['nft_address', 'token_id'],\n",
    "                  how='left', indicator=True)"
   ]
  },
  {
   "cell_type": "code",
   "execution_count": 38,
   "id": "6886e7a8",
   "metadata": {},
   "outputs": [],
   "source": [
    "unminted = mi2[mi2['_merge']=='left_only']"
   ]
  },
  {
   "cell_type": "code",
   "execution_count": null,
   "id": "b8f51bf8",
   "metadata": {},
   "outputs": [],
   "source": []
  },
  {
   "cell_type": "code",
   "execution_count": 111,
   "id": "40c10e1f",
   "metadata": {},
   "outputs": [
    {
     "name": "stdout",
     "output_type": "stream",
     "text": [
      "Number of mints that were not transfered: 4160796\n"
     ]
    }
   ],
   "source": [
    "print(\"Number of mints that were not transfered:\", len(unminted))"
   ]
  },
  {
   "cell_type": "code",
   "execution_count": 129,
   "id": "9ea32c49",
   "metadata": {},
   "outputs": [
    {
     "data": {
      "text/plain": [
       "Text(0.5, 1.0, 'Proportion of Mints That Went Untransferred')"
      ]
     },
     "execution_count": 129,
     "metadata": {},
     "output_type": "execute_result"
    },
    {
     "data": {
      "image/png": "[encoded data removed]",
      "text/plain": [
       "<Figure size 432x288 with 1 Axes>"
      ]
     },
     "metadata": {},
     "output_type": "display_data"
    }
   ],
   "source": [
    "pie = [4160796/6667282, 2506486/6667282]\n",
    "labels = ['Untransferred \\n 62.4%', 'Transferred /n 37.6%']\n",
    "plt.pie(pie, labels=labels, colors=['red', 'green'], labeldistance=.2, startangle=90, textprops = {'color':'white'})\n",
    "plt.title(\"Proportion of Mints That Went Untransferred\", weight='bold', fontsize = 14)"
   ]
  },
  {
   "cell_type": "markdown",
   "id": "68bdc8a0",
   "metadata": {},
   "source": [
    "# What Does the First Transfer After Minting Look Like?"
   ]
  },
  {
   "cell_type": "code",
   "execution_count": 39,
   "id": "54dd3bc1",
   "metadata": {},
   "outputs": [],
   "source": [
    "transferred_mints = mi2[mi2[\"_merge\"] == 'both']\n",
    "transferred_mints = transferred_mints.rename(columns = {'timestamp':'minttimestamp'})"
   ]
  },
  {
   "cell_type": "code",
   "execution_count": 40,
   "id": "009ba858",
   "metadata": {},
   "outputs": [],
   "source": [
    "transferred_mints.drop('_merge', axis=1, inplace=True)"
   ]
  },
  {
   "cell_type": "code",
   "execution_count": 41,
   "id": "460fb8ec",
   "metadata": {},
   "outputs": [],
   "source": [
    "transfers_ = transfers_df.sort_values(['nft_address', 'token_id', 'timestamp']).copy()\n",
    "transfers_['Counter'] = transfers_.groupby(['nft_address', 'token_id']).cumcount()+1\n",
    "first_transfer = transfers_[transfers_['Counter']==1]\n",
    "first_transfer = first_transfer.rename(columns = {'timestamp':'transfertimestamp'})\n"
   ]
  },
  {
   "cell_type": "code",
   "execution_count": 42,
   "id": "84ab57f6",
   "metadata": {},
   "outputs": [],
   "source": [
    "mint_time = pd.merge(first_transfer, transferred_mints, on=['nft_address', 'token_id'], how='left', indicator = True)\n",
    "mint_time = mint_time[mint_time['_merge'] == 'both']"
   ]
  },
  {
   "cell_type": "code",
   "execution_count": 43,
   "id": "889d3434",
   "metadata": {},
   "outputs": [],
   "source": [
    "sold = mint_time[mint_time['transaction_value_x'] != 0]"
   ]
  },
  {
   "cell_type": "code",
   "execution_count": 44,
   "id": "1cce83cf",
   "metadata": {},
   "outputs": [],
   "source": [
    "sold = sold.copy()"
   ]
  },
  {
   "cell_type": "code",
   "execution_count": 45,
   "id": "d1f94c85",
   "metadata": {},
   "outputs": [],
   "source": [
    "sold = sold.assign(timeToSell=sold['transfertimestamp'] - sold['minttimestamp'])"
   ]
  },
  {
   "cell_type": "code",
   "execution_count": 23,
   "id": "0e85506a",
   "metadata": {},
   "outputs": [
    {
     "name": "stdout",
     "output_type": "stream",
     "text": [
      "On average, NFTs took 6.975507915879865 days after minting to sell\n"
     ]
    }
   ],
   "source": [
    "print(\"On average, NFTs took\", sold['timeToSell'].mean()/86400, \"days after minting to sell\")"
   ]
  },
  {
   "cell_type": "code",
   "execution_count": 46,
   "id": "03fae137",
   "metadata": {},
   "outputs": [],
   "source": [
    "sold_nooutliers = sold[(np.abs(stats.zscore(sold['transaction_value_x'])) < 3)].copy()\n",
    "sold_nooutliers = sold_nooutliers[sold_nooutliers['transfertimestamp'] >= 0 ].copy()"
   ]
  },
  {
   "cell_type": "code",
   "execution_count": 47,
   "id": "c7aa22a5",
   "metadata": {},
   "outputs": [],
   "source": [
    "sold_nooutliers = sold_nooutliers[sold_nooutliers['timeToSell'] >= 0 ].copy()"
   ]
  },
  {
   "cell_type": "code",
   "execution_count": 48,
   "id": "b00e7464",
   "metadata": {},
   "outputs": [],
   "source": [
    "quantiles = sold_nooutliers.timeToSell.quantile([0.25,0.5,0.75]).to_list()\n",
    "quantiles.append(max(sold_nooutliers['timeToSell']))\n",
    "quantiles.append(min(sold_nooutliers['timeToSell']))\n",
    "quantiles.sort()"
   ]
  },
  {
   "cell_type": "code",
   "execution_count": 49,
   "id": "3fa87f18",
   "metadata": {},
   "outputs": [],
   "source": [
    "sold_q1 = sold_nooutliers[sold_nooutliers['timeToSell'] < 6676]\n",
    "sold_q2 = sold_nooutliers[(sold_nooutliers['timeToSell'] < 88180) & (sold_nooutliers['timeToSell'] >= 6676)]\n",
    "sold_q3 = sold_nooutliers[(sold_nooutliers['timeToSell'] >= 88180) & (sold_nooutliers['timeToSell'] < 536746)]\n",
    "sold_q4 = sold_nooutliers[sold_nooutliers['timeToSell'] >= 536746]"
   ]
  },
  {
   "cell_type": "code",
   "execution_count": 82,
   "id": "5330e2a3",
   "metadata": {},
   "outputs": [
    {
     "data": {
      "text/plain": [
       "{'whiskers': [<matplotlib.lines.Line2D at 0x1dbd40b80>,\n",
       "  <matplotlib.lines.Line2D at 0x1dbd40ee0>],\n",
       " 'caps': [<matplotlib.lines.Line2D at 0x1d9672280>,\n",
       "  <matplotlib.lines.Line2D at 0x1d96725e0>],\n",
       " 'boxes': [<matplotlib.lines.Line2D at 0x1dbd40820>],\n",
       " 'medians': [<matplotlib.lines.Line2D at 0x1d9672940>],\n",
       " 'fliers': [<matplotlib.lines.Line2D at 0x1d9672ca0>],\n",
       " 'means': []}"
      ]
     },
     "execution_count": 82,
     "metadata": {},
     "output_type": "execute_result"
    },
    {
     "data": {
      "image/png": "[encoded data removed]",
      "text/plain": [
       "<Figure size 432x288 with 1 Axes>"
      ]
     },
     "metadata": {
      "needs_background": "light"
     },
     "output_type": "display_data"
    }
   ],
   "source": [
    "plt.rcParams[\"figure.figsize\"] = [7.50, 3.50]\n",
    "plt.rcParams[\"figure.autolayout\"] = True\n",
    "ax = data[['Box1', 'Box2']].plot(kind='box', title='boxplot')\n",
    "ax.boxplot(sold_q1['transaction_value_x'])\n",
    "ax.boxplot(sold_q2['transaction_value_x'])\n",
    "\n",
    "#plt.boxplot(sold_q1['transaction_value_x'], showfliers=False)\n",
    "#plt.boxplot(sold_q2['transaction_value_x'], showfliers=False)"
   ]
  },
  {
   "cell_type": "code",
   "execution_count": 67,
   "id": "a31c909c",
   "metadata": {},
   "outputs": [
    {
     "data": {
      "image/png": "[encoded data removed]",
      "text/plain": [
       "<Figure size 432x288 with 4 Axes>"
      ]
     },
     "metadata": {
      "needs_background": "light"
     },
     "output_type": "display_data"
    }
   ],
   "source": [
    "import seaborn as sns\n",
    "f, axes = plt.subplots(1, 4)\n",
    "sns.boxplot(y='transaction_value_x', data=sold_q1, palette=\"Set3\",ax=axes[0], showfliers=False)\n",
    "\n",
    "sns.boxplot(y='transaction_value_x', data=sold_q2, palette=\"Set3\",ax=axes[1], showfliers=False)\n",
    "\n",
    "sns.boxplot(y='transaction_value_x', data=sold_q3, palette=\"Set3\",ax=axes[2], showfliers=False)\n",
    "\n",
    "sns.boxplot(y='transaction_value_x', data=sold_q4, palette=\"Set3\",ax=axes[3], showfliers=False)\n",
    "axes[0].set_ylabel('WEI')\n",
    "axes[1].set_ylabel('WEI')\n",
    "axes[2].set_ylabel('WEI')\n",
    "axes[3].set_ylabel('WEI')\n",
    "axes[0].set_xlabel('<2 hr')\n",
    "axes[1].set_xlabel('2-24hr')\n",
    "axes[2].set_xlabel('1-6 days')\n",
    "axes[3].set_xlabel('6+ days')\n",
    "plt.title('First Sell Value Split by Time for Sale', pad=30, weight='bold', loc='right')\n",
    "plt.tight_layout()\n",
    "plt.show()"
   ]
  },
  {
   "cell_type": "code",
   "execution_count": 108,
   "id": "def7d4b3",
   "metadata": {},
   "outputs": [],
   "source": [
    "avg1 = sold_q1['transaction_value_x'].mean()\n",
    "avg2 = sold_q2['transaction_value_x'].mean()\n",
    "avg3 = sold_q3['transaction_value_x'].mean()\n",
    "avg4 = sold_q4['transaction_value_x'].mean()\n"
   ]
  },
  {
   "cell_type": "code",
   "execution_count": 113,
   "id": "acf8a44a",
   "metadata": {},
   "outputs": [
    {
     "data": {
      "text/plain": [
       "Text(0.5, 1.0, 'Average Transaction Value When NFT is Transfered First Time')"
      ]
     },
     "execution_count": 113,
     "metadata": {},
     "output_type": "execute_result"
    },
    {
     "data": {
      "image/png": "[encoded data removed]",
      "text/plain": [
       "<Figure size 432x288 with 1 Axes>"
      ]
     },
     "metadata": {
      "needs_background": "light"
     },
     "output_type": "display_data"
    }
   ],
   "source": [
    "x = ['<2hr', '2-24hr', '1-6 days', '6+days']\n",
    "y = [avg1, avg2, avg3, avg4]\n",
    "y = [item/10**18 for item in y]\n",
    "plt.scatter(x, y)\n",
    "plt.xlabel('Time Until First Transfer')\n",
    "plt.ylabel('Average Transaction Value in ETH')\n",
    "plt.title('Average Transaction Value When NFT is Transfered First Time', weight='bold', fontsize = 14)\n",
    "#plt.xticks( range(1,5,1) )"
   ]
  },
  {
   "cell_type": "code",
   "execution_count": 115,
   "id": "0061269c",
   "metadata": {},
   "outputs": [],
   "source": [
    "med1 = sold_q1['transaction_value_x'].median()\n",
    "med2 = sold_q2['transaction_value_x'].median()\n",
    "med3 = sold_q3['transaction_value_x'].median()\n",
    "med4 = sold_q4['transaction_value_x'].median()"
   ]
  },
  {
   "cell_type": "code",
   "execution_count": 116,
   "id": "ded092fd",
   "metadata": {
    "scrolled": true
   },
   "outputs": [
    {
     "data": {
      "text/plain": [
       "Text(0.5, 1.0, 'Median Transaction Value When NFT is Transfered First Time')"
      ]
     },
     "execution_count": 116,
     "metadata": {},
     "output_type": "execute_result"
    },
    {
     "data": {
      "image/png": "[encoded data removed]",
      "text/plain": [
       "<Figure size 432x288 with 1 Axes>"
      ]
     },
     "metadata": {
      "needs_background": "light"
     },
     "output_type": "display_data"
    }
   ],
   "source": [
    "x = ['<2hr', '2-24hr', '1-6 days', '6+days']\n",
    "y = [med1, med2, med3, med4]\n",
    "y = [item/10**18 for item in y]\n",
    "plt.scatter(x, y)\n",
    "plt.xlabel('Time Until First Transfer')\n",
    "plt.ylabel('Median Transaction Value in ETH')\n",
    "plt.title('Median Transaction Value When NFT is Transfered First Time', weight='bold', fontsize = 14)\n",
    "#plt.xticks( range(1,5,1) )"
   ]
  },
  {
   "cell_type": "code",
   "execution_count": 120,
   "id": "44f1c4cb",
   "metadata": {},
   "outputs": [
    {
     "data": {
      "text/html": [
       "<div>\n",
       "<style scoped>\n",
       "    .dataframe tbody tr th:only-of-type {\n",
       "        vertical-align: middle;\n",
       "    }\n",
       "\n",
       "    .dataframe tbody tr th {\n",
       "        vertical-align: top;\n",
       "    }\n",
       "\n",
       "    .dataframe thead th {\n",
       "        text-align: right;\n",
       "    }\n",
       "</style>\n",
       "<table border=\"1\" class=\"dataframe\">\n",
       "  <thead>\n",
       "    <tr style=\"text-align: right;\">\n",
       "      <th></th>\n",
       "      <th>event_id_x</th>\n",
       "      <th>transaction_hash_x</th>\n",
       "      <th>block_number_x</th>\n",
       "      <th>nft_address</th>\n",
       "      <th>token_id</th>\n",
       "      <th>from_address_x</th>\n",
       "      <th>to_address_x</th>\n",
       "      <th>transaction_value_x</th>\n",
       "      <th>transfertimestamp</th>\n",
       "      <th>Counter</th>\n",
       "      <th>event_id_y</th>\n",
       "      <th>transaction_hash_y</th>\n",
       "      <th>block_number_y</th>\n",
       "      <th>from_address_y</th>\n",
       "      <th>to_address_y</th>\n",
       "      <th>transaction_value_y</th>\n",
       "      <th>minttimestamp</th>\n",
       "      <th>_merge</th>\n",
       "      <th>timeToSell</th>\n",
       "    </tr>\n",
       "  </thead>\n",
       "  <tbody>\n",
       "    <tr>\n",
       "      <th>1383194</th>\n",
       "      <td>cd052236-b70a-476b-80f3-ab52c194b941</td>\n",
       "      <td>0x822bc4bb27c50697f8bd4610aecb1bf7d61bf697f4f4...</td>\n",
       "      <td>13068343</td>\n",
       "      <td>0x66779f4615f287b4DB421b7910620E05daaE79B9</td>\n",
       "      <td>188</td>\n",
       "      <td>0x0Ca338955087E3Fe5D968116028638720473D241</td>\n",
       "      <td>0x36740817E4b6ee7e95f1c406d9b282EF72E3f0b9</td>\n",
       "      <td>1.000000e+00</td>\n",
       "      <td>1629545368</td>\n",
       "      <td>1</td>\n",
       "      <td>3b0cabb8-2d21-4de7-a8dd-80e1019bdc0a</td>\n",
       "      <td>0x775d4b8e3ff3c6caf4edf0e32338151d42e24d76cf87...</td>\n",
       "      <td>12900903.0</td>\n",
       "      <td>0x0000000000000000000000000000000000000000</td>\n",
       "      <td>0x0Ca338955087E3Fe5D968116028638720473D241</td>\n",
       "      <td>0.000000e+00</td>\n",
       "      <td>1.627290e+09</td>\n",
       "      <td>both</td>\n",
       "      <td>2255686.0</td>\n",
       "    </tr>\n",
       "    <tr>\n",
       "      <th>419688</th>\n",
       "      <td>2191d6c5-faff-4a0d-ba81-faa8e982d9a2</td>\n",
       "      <td>0xe536a82fb52e1b2d1423d3f0d4b7cd7eb19f77357209...</td>\n",
       "      <td>13068409</td>\n",
       "      <td>0x2C9476716ee3eE590BcdF9827dbd792b79480d4a</td>\n",
       "      <td>2</td>\n",
       "      <td>0xF4217855a4d52fedd25759683BFCf6668B3dc362</td>\n",
       "      <td>0x36740817E4b6ee7e95f1c406d9b282EF72E3f0b9</td>\n",
       "      <td>1.000000e+00</td>\n",
       "      <td>1629546318</td>\n",
       "      <td>1</td>\n",
       "      <td>15616e62-bd90-4bb7-8e47-bb3d7fae1b81</td>\n",
       "      <td>0x8115d77ab8923044ec602e1136291d21b28176d6ad20...</td>\n",
       "      <td>12472323.0</td>\n",
       "      <td>0x0000000000000000000000000000000000000000</td>\n",
       "      <td>0xF4217855a4d52fedd25759683BFCf6668B3dc362</td>\n",
       "      <td>0.000000e+00</td>\n",
       "      <td>1.621528e+09</td>\n",
       "      <td>both</td>\n",
       "      <td>8018490.0</td>\n",
       "    </tr>\n",
       "    <tr>\n",
       "      <th>2534825</th>\n",
       "      <td>a7dc95e1-af0c-4597-a925-3dfe48be9426</td>\n",
       "      <td>0xe3faa2ef3e2e135cc587a38c322f8dd4aa38df73b663...</td>\n",
       "      <td>12632646</td>\n",
       "      <td>0xbf98F29a900dE1Aa2722C37FC412fb60c65f0af9</td>\n",
       "      <td>3</td>\n",
       "      <td>0xbf98F29a900dE1Aa2722C37FC412fb60c65f0af9</td>\n",
       "      <td>0xb9cAffD604Ee8bD3FFdd3a2a94bF2a523E52043C</td>\n",
       "      <td>1.000000e+00</td>\n",
       "      <td>1623674839</td>\n",
       "      <td>1</td>\n",
       "      <td>57e3e9e8-b976-4040-9d6d-9193692c3fd4</td>\n",
       "      <td>0xa6684b3b3ac8992266705e212165a737b0af3f96694d...</td>\n",
       "      <td>12632541.0</td>\n",
       "      <td>0x0000000000000000000000000000000000000000</td>\n",
       "      <td>0xbf98F29a900dE1Aa2722C37FC412fb60c65f0af9</td>\n",
       "      <td>0.000000e+00</td>\n",
       "      <td>1.623674e+09</td>\n",
       "      <td>both</td>\n",
       "      <td>1338.0</td>\n",
       "    </tr>\n",
       "    <tr>\n",
       "      <th>2212062</th>\n",
       "      <td>04038ee7-aad9-42ac-b35a-629e44ce836c</td>\n",
       "      <td>0xf7ef3c21ddd09fca6b90342d0a5ebca7b7a365d0c887...</td>\n",
       "      <td>13008272</td>\n",
       "      <td>0xF2212d6624e99f4f7E7c5a293Fc2f1293C6D3b47</td>\n",
       "      <td>2</td>\n",
       "      <td>0x4f05e5985e1D38f6810f456b3AAaF8cDc7807997</td>\n",
       "      <td>0x30ab1ba4dA05366c5153A02f8F494c9EFa469369</td>\n",
       "      <td>2.000000e+00</td>\n",
       "      <td>1628743469</td>\n",
       "      <td>1</td>\n",
       "      <td>3ead46b1-1662-4668-b6e3-694adf30bacc</td>\n",
       "      <td>0xf7ef3c21ddd09fca6b90342d0a5ebca7b7a365d0c887...</td>\n",
       "      <td>13008272.0</td>\n",
       "      <td>0x0000000000000000000000000000000000000000</td>\n",
       "      <td>0x4f05e5985e1D38f6810f456b3AAaF8cDc7807997</td>\n",
       "      <td>2.000000e+00</td>\n",
       "      <td>1.628743e+09</td>\n",
       "      <td>both</td>\n",
       "      <td>0.0</td>\n",
       "    </tr>\n",
       "    <tr>\n",
       "      <th>2212063</th>\n",
       "      <td>f32db2b9-27ff-4509-855c-428421baf43b</td>\n",
       "      <td>0xf7ef3c21ddd09fca6b90342d0a5ebca7b7a365d0c887...</td>\n",
       "      <td>13008272</td>\n",
       "      <td>0xF2212d6624e99f4f7E7c5a293Fc2f1293C6D3b47</td>\n",
       "      <td>3</td>\n",
       "      <td>0x4f05e5985e1D38f6810f456b3AAaF8cDc7807997</td>\n",
       "      <td>0x30ab1ba4dA05366c5153A02f8F494c9EFa469369</td>\n",
       "      <td>2.000000e+00</td>\n",
       "      <td>1628743469</td>\n",
       "      <td>1</td>\n",
       "      <td>ae2a7979-2788-4688-8625-3a259ff74004</td>\n",
       "      <td>0xf7ef3c21ddd09fca6b90342d0a5ebca7b7a365d0c887...</td>\n",
       "      <td>13008272.0</td>\n",
       "      <td>0x0000000000000000000000000000000000000000</td>\n",
       "      <td>0x4f05e5985e1D38f6810f456b3AAaF8cDc7807997</td>\n",
       "      <td>2.000000e+00</td>\n",
       "      <td>1.628743e+09</td>\n",
       "      <td>both</td>\n",
       "      <td>0.0</td>\n",
       "    </tr>\n",
       "    <tr>\n",
       "      <th>...</th>\n",
       "      <td>...</td>\n",
       "      <td>...</td>\n",
       "      <td>...</td>\n",
       "      <td>...</td>\n",
       "      <td>...</td>\n",
       "      <td>...</td>\n",
       "      <td>...</td>\n",
       "      <td>...</td>\n",
       "      <td>...</td>\n",
       "      <td>...</td>\n",
       "      <td>...</td>\n",
       "      <td>...</td>\n",
       "      <td>...</td>\n",
       "      <td>...</td>\n",
       "      <td>...</td>\n",
       "      <td>...</td>\n",
       "      <td>...</td>\n",
       "      <td>...</td>\n",
       "      <td>...</td>\n",
       "    </tr>\n",
       "    <tr>\n",
       "      <th>552675</th>\n",
       "      <td>f7c3409d-18ea-4d37-bbda-f8ee547074d2</td>\n",
       "      <td>0xeb3e7d6fc2c826f4828084af2c8720914f7f7aedfabf...</td>\n",
       "      <td>13127654</td>\n",
       "      <td>0x371020c4a69457935584F68000E4F883e4e8Ed98</td>\n",
       "      <td>40</td>\n",
       "      <td>0x84D34f4f83a87596Cd3FB6887cFf8F17Bf5A7B83</td>\n",
       "      <td>0x1c1919Ec9de318b58fA66baE7449438C673E10B8</td>\n",
       "      <td>5.500025e+20</td>\n",
       "      <td>1630336867</td>\n",
       "      <td>1</td>\n",
       "      <td>c4bcc31b-d6ff-4295-a9be-0439ecaaffc9</td>\n",
       "      <td>0x178190ab7692aaf0f54e8db4965cad2bef018e8ca91f...</td>\n",
       "      <td>13031339.0</td>\n",
       "      <td>0x0000000000000000000000000000000000000000</td>\n",
       "      <td>0x84D34f4f83a87596Cd3FB6887cFf8F17Bf5A7B83</td>\n",
       "      <td>0.000000e+00</td>\n",
       "      <td>1.629052e+09</td>\n",
       "      <td>both</td>\n",
       "      <td>1285314.0</td>\n",
       "    </tr>\n",
       "    <tr>\n",
       "      <th>2482341</th>\n",
       "      <td>9b87af97-3757-428b-b45c-e09565254210</td>\n",
       "      <td>0x6568317017d8722ecff2d2be77c2ddcc53e827541d86...</td>\n",
       "      <td>12205115</td>\n",
       "      <td>0xb932a70A57673d89f4acfFBE830E8ed7f75Fb9e0</td>\n",
       "      <td>23154</td>\n",
       "      <td>0x45Fa9AB78aE37fbB282F8069b49765ECAa04c0e7</td>\n",
       "      <td>0x0bD3D88aec644c098574C881c25e963d9f57CA57</td>\n",
       "      <td>6.180000e+20</td>\n",
       "      <td>1617964092</td>\n",
       "      <td>1</td>\n",
       "      <td>5437de1d-2e71-4ed0-8152-4b164dd1a7be</td>\n",
       "      <td>0x01e04c2f9af7a2d28c01ff1e903427b668914a611a4c...</td>\n",
       "      <td>12205074.0</td>\n",
       "      <td>0x0000000000000000000000000000000000000000</td>\n",
       "      <td>0x45Fa9AB78aE37fbB282F8069b49765ECAa04c0e7</td>\n",
       "      <td>0.000000e+00</td>\n",
       "      <td>1.617964e+09</td>\n",
       "      <td>both</td>\n",
       "      <td>455.0</td>\n",
       "    </tr>\n",
       "    <tr>\n",
       "      <th>1522265</th>\n",
       "      <td>b2dfe27e-f6f8-475b-897c-30ab1d027d01</td>\n",
       "      <td>0x99f1872f2a7bbd1e36910beed2d639378ebd3e747418...</td>\n",
       "      <td>12796259</td>\n",
       "      <td>0x7Bd29408f11D2bFC23c34f18275bBf23bB716Bc7</td>\n",
       "      <td>17522</td>\n",
       "      <td>0x12e5E3E7A1389feD96e1BE50aEd32316C027B18B</td>\n",
       "      <td>0x005E9EeD36BfEA0D05c0e8f36f32d4f4E08EFacd</td>\n",
       "      <td>1.000000e+21</td>\n",
       "      <td>1625875170</td>\n",
       "      <td>1</td>\n",
       "      <td>a0096980-6ff2-47d7-988a-e2f99a591628</td>\n",
       "      <td>0x7a5c5041ef1a4c29b18fdb3e45bcef857595d0849247...</td>\n",
       "      <td>12365047.0</td>\n",
       "      <td>0x0000000000000000000000000000000000000000</td>\n",
       "      <td>0x12e5E3E7A1389feD96e1BE50aEd32316C027B18B</td>\n",
       "      <td>0.000000e+00</td>\n",
       "      <td>1.620095e+09</td>\n",
       "      <td>both</td>\n",
       "      <td>5780127.0</td>\n",
       "    </tr>\n",
       "    <tr>\n",
       "      <th>2837393</th>\n",
       "      <td>c9c541d6-425c-40c1-836b-fc3ff875aadc</td>\n",
       "      <td>0x9fe475c625553d191833271ea1b9c1533a3c1c31f5fa...</td>\n",
       "      <td>12197784</td>\n",
       "      <td>0xfD1539Ee9ccAD1aB5D9b4877097CfD8221815b47</td>\n",
       "      <td>504</td>\n",
       "      <td>0x02A522D98EC2D2c3bBe91AcC29ee7fD32ab880ab</td>\n",
       "      <td>0x6eD31BC364df5169D4A2C0f9e7c87Ec824C7E641</td>\n",
       "      <td>1.000001e+21</td>\n",
       "      <td>1617866527</td>\n",
       "      <td>1</td>\n",
       "      <td>8b252467-e166-4836-af3d-3e625dc835d3</td>\n",
       "      <td>0x0d219c19c079f5648acd819377dd42be6ddca5b618c9...</td>\n",
       "      <td>12197118.0</td>\n",
       "      <td>0x0000000000000000000000000000000000000000</td>\n",
       "      <td>0x02A522D98EC2D2c3bBe91AcC29ee7fD32ab880ab</td>\n",
       "      <td>0.000000e+00</td>\n",
       "      <td>1.617858e+09</td>\n",
       "      <td>both</td>\n",
       "      <td>9025.0</td>\n",
       "    </tr>\n",
       "    <tr>\n",
       "      <th>2656025</th>\n",
       "      <td>5b920d58-303c-4ae4-bff8-0620f7c84b2d</td>\n",
       "      <td>0x7b459405ae0a5538f26be77fb42b67f363a8bea660e1...</td>\n",
       "      <td>13051262</td>\n",
       "      <td>0xd754937672300Ae6708a51229112dE4017810934</td>\n",
       "      <td>171</td>\n",
       "      <td>0xe1D29d0a39962a9a8d2A297ebe82e166F8b8EC18</td>\n",
       "      <td>0x924Ec2504CC71CdbD39011B417ac5a9D3d4dFF1b</td>\n",
       "      <td>2.275000e+21</td>\n",
       "      <td>1629316960</td>\n",
       "      <td>1</td>\n",
       "      <td>17b0c0cc-d17a-4fd6-bac0-006df32012a4</td>\n",
       "      <td>0x4043f8854de994f73a7177ada758f7a9e92c78caa422...</td>\n",
       "      <td>12390829.0</td>\n",
       "      <td>0x0000000000000000000000000000000000000000</td>\n",
       "      <td>0xe1D29d0a39962a9a8d2A297ebe82e166F8b8EC18</td>\n",
       "      <td>2.500000e+17</td>\n",
       "      <td>1.620439e+09</td>\n",
       "      <td>both</td>\n",
       "      <td>8877593.0</td>\n",
       "    </tr>\n",
       "  </tbody>\n",
       "</table>\n",
       "<p>1744874 rows × 19 columns</p>\n",
       "</div>"
      ],
      "text/plain": [
       "                                   event_id_x  \\\n",
       "1383194  cd052236-b70a-476b-80f3-ab52c194b941   \n",
       "419688   2191d6c5-faff-4a0d-ba81-faa8e982d9a2   \n",
       "2534825  a7dc95e1-af0c-4597-a925-3dfe48be9426   \n",
       "2212062  04038ee7-aad9-42ac-b35a-629e44ce836c   \n",
       "2212063  f32db2b9-27ff-4509-855c-428421baf43b   \n",
       "...                                       ...   \n",
       "552675   f7c3409d-18ea-4d37-bbda-f8ee547074d2   \n",
       "2482341  9b87af97-3757-428b-b45c-e09565254210   \n",
       "1522265  b2dfe27e-f6f8-475b-897c-30ab1d027d01   \n",
       "2837393  c9c541d6-425c-40c1-836b-fc3ff875aadc   \n",
       "2656025  5b920d58-303c-4ae4-bff8-0620f7c84b2d   \n",
       "\n",
       "                                        transaction_hash_x  block_number_x  \\\n",
       "1383194  0x822bc4bb27c50697f8bd4610aecb1bf7d61bf697f4f4...        13068343   \n",
       "419688   0xe536a82fb52e1b2d1423d3f0d4b7cd7eb19f77357209...        13068409   \n",
       "2534825  0xe3faa2ef3e2e135cc587a38c322f8dd4aa38df73b663...        12632646   \n",
       "2212062  0xf7ef3c21ddd09fca6b90342d0a5ebca7b7a365d0c887...        13008272   \n",
       "2212063  0xf7ef3c21ddd09fca6b90342d0a5ebca7b7a365d0c887...        13008272   \n",
       "...                                                    ...             ...   \n",
       "552675   0xeb3e7d6fc2c826f4828084af2c8720914f7f7aedfabf...        13127654   \n",
       "2482341  0x6568317017d8722ecff2d2be77c2ddcc53e827541d86...        12205115   \n",
       "1522265  0x99f1872f2a7bbd1e36910beed2d639378ebd3e747418...        12796259   \n",
       "2837393  0x9fe475c625553d191833271ea1b9c1533a3c1c31f5fa...        12197784   \n",
       "2656025  0x7b459405ae0a5538f26be77fb42b67f363a8bea660e1...        13051262   \n",
       "\n",
       "                                        nft_address token_id  \\\n",
       "1383194  0x66779f4615f287b4DB421b7910620E05daaE79B9      188   \n",
       "419688   0x2C9476716ee3eE590BcdF9827dbd792b79480d4a        2   \n",
       "2534825  0xbf98F29a900dE1Aa2722C37FC412fb60c65f0af9        3   \n",
       "2212062  0xF2212d6624e99f4f7E7c5a293Fc2f1293C6D3b47        2   \n",
       "2212063  0xF2212d6624e99f4f7E7c5a293Fc2f1293C6D3b47        3   \n",
       "...                                             ...      ...   \n",
       "552675   0x371020c4a69457935584F68000E4F883e4e8Ed98       40   \n",
       "2482341  0xb932a70A57673d89f4acfFBE830E8ed7f75Fb9e0    23154   \n",
       "1522265  0x7Bd29408f11D2bFC23c34f18275bBf23bB716Bc7    17522   \n",
       "2837393  0xfD1539Ee9ccAD1aB5D9b4877097CfD8221815b47      504   \n",
       "2656025  0xd754937672300Ae6708a51229112dE4017810934      171   \n",
       "\n",
       "                                     from_address_x  \\\n",
       "1383194  0x0Ca338955087E3Fe5D968116028638720473D241   \n",
       "419688   0xF4217855a4d52fedd25759683BFCf6668B3dc362   \n",
       "2534825  0xbf98F29a900dE1Aa2722C37FC412fb60c65f0af9   \n",
       "2212062  0x4f05e5985e1D38f6810f456b3AAaF8cDc7807997   \n",
       "2212063  0x4f05e5985e1D38f6810f456b3AAaF8cDc7807997   \n",
       "...                                             ...   \n",
       "552675   0x84D34f4f83a87596Cd3FB6887cFf8F17Bf5A7B83   \n",
       "2482341  0x45Fa9AB78aE37fbB282F8069b49765ECAa04c0e7   \n",
       "1522265  0x12e5E3E7A1389feD96e1BE50aEd32316C027B18B   \n",
       "2837393  0x02A522D98EC2D2c3bBe91AcC29ee7fD32ab880ab   \n",
       "2656025  0xe1D29d0a39962a9a8d2A297ebe82e166F8b8EC18   \n",
       "\n",
       "                                       to_address_x  transaction_value_x  \\\n",
       "1383194  0x36740817E4b6ee7e95f1c406d9b282EF72E3f0b9         1.000000e+00   \n",
       "419688   0x36740817E4b6ee7e95f1c406d9b282EF72E3f0b9         1.000000e+00   \n",
       "2534825  0xb9cAffD604Ee8bD3FFdd3a2a94bF2a523E52043C         1.000000e+00   \n",
       "2212062  0x30ab1ba4dA05366c5153A02f8F494c9EFa469369         2.000000e+00   \n",
       "2212063  0x30ab1ba4dA05366c5153A02f8F494c9EFa469369         2.000000e+00   \n",
       "...                                             ...                  ...   \n",
       "552675   0x1c1919Ec9de318b58fA66baE7449438C673E10B8         5.500025e+20   \n",
       "2482341  0x0bD3D88aec644c098574C881c25e963d9f57CA57         6.180000e+20   \n",
       "1522265  0x005E9EeD36BfEA0D05c0e8f36f32d4f4E08EFacd         1.000000e+21   \n",
       "2837393  0x6eD31BC364df5169D4A2C0f9e7c87Ec824C7E641         1.000001e+21   \n",
       "2656025  0x924Ec2504CC71CdbD39011B417ac5a9D3d4dFF1b         2.275000e+21   \n",
       "\n",
       "         transfertimestamp  Counter                            event_id_y  \\\n",
       "1383194         1629545368        1  3b0cabb8-2d21-4de7-a8dd-80e1019bdc0a   \n",
       "419688          1629546318        1  15616e62-bd90-4bb7-8e47-bb3d7fae1b81   \n",
       "2534825         1623674839        1  57e3e9e8-b976-4040-9d6d-9193692c3fd4   \n",
       "2212062         1628743469        1  3ead46b1-1662-4668-b6e3-694adf30bacc   \n",
       "2212063         1628743469        1  ae2a7979-2788-4688-8625-3a259ff74004   \n",
       "...                    ...      ...                                   ...   \n",
       "552675          1630336867        1  c4bcc31b-d6ff-4295-a9be-0439ecaaffc9   \n",
       "2482341         1617964092        1  5437de1d-2e71-4ed0-8152-4b164dd1a7be   \n",
       "1522265         1625875170        1  a0096980-6ff2-47d7-988a-e2f99a591628   \n",
       "2837393         1617866527        1  8b252467-e166-4836-af3d-3e625dc835d3   \n",
       "2656025         1629316960        1  17b0c0cc-d17a-4fd6-bac0-006df32012a4   \n",
       "\n",
       "                                        transaction_hash_y  block_number_y  \\\n",
       "1383194  0x775d4b8e3ff3c6caf4edf0e32338151d42e24d76cf87...      12900903.0   \n",
       "419688   0x8115d77ab8923044ec602e1136291d21b28176d6ad20...      12472323.0   \n",
       "2534825  0xa6684b3b3ac8992266705e212165a737b0af3f96694d...      12632541.0   \n",
       "2212062  0xf7ef3c21ddd09fca6b90342d0a5ebca7b7a365d0c887...      13008272.0   \n",
       "2212063  0xf7ef3c21ddd09fca6b90342d0a5ebca7b7a365d0c887...      13008272.0   \n",
       "...                                                    ...             ...   \n",
       "552675   0x178190ab7692aaf0f54e8db4965cad2bef018e8ca91f...      13031339.0   \n",
       "2482341  0x01e04c2f9af7a2d28c01ff1e903427b668914a611a4c...      12205074.0   \n",
       "1522265  0x7a5c5041ef1a4c29b18fdb3e45bcef857595d0849247...      12365047.0   \n",
       "2837393  0x0d219c19c079f5648acd819377dd42be6ddca5b618c9...      12197118.0   \n",
       "2656025  0x4043f8854de994f73a7177ada758f7a9e92c78caa422...      12390829.0   \n",
       "\n",
       "                                     from_address_y  \\\n",
       "1383194  0x0000000000000000000000000000000000000000   \n",
       "419688   0x0000000000000000000000000000000000000000   \n",
       "2534825  0x0000000000000000000000000000000000000000   \n",
       "2212062  0x0000000000000000000000000000000000000000   \n",
       "2212063  0x0000000000000000000000000000000000000000   \n",
       "...                                             ...   \n",
       "552675   0x0000000000000000000000000000000000000000   \n",
       "2482341  0x0000000000000000000000000000000000000000   \n",
       "1522265  0x0000000000000000000000000000000000000000   \n",
       "2837393  0x0000000000000000000000000000000000000000   \n",
       "2656025  0x0000000000000000000000000000000000000000   \n",
       "\n",
       "                                       to_address_y  transaction_value_y  \\\n",
       "1383194  0x0Ca338955087E3Fe5D968116028638720473D241         0.000000e+00   \n",
       "419688   0xF4217855a4d52fedd25759683BFCf6668B3dc362         0.000000e+00   \n",
       "2534825  0xbf98F29a900dE1Aa2722C37FC412fb60c65f0af9         0.000000e+00   \n",
       "2212062  0x4f05e5985e1D38f6810f456b3AAaF8cDc7807997         2.000000e+00   \n",
       "2212063  0x4f05e5985e1D38f6810f456b3AAaF8cDc7807997         2.000000e+00   \n",
       "...                                             ...                  ...   \n",
       "552675   0x84D34f4f83a87596Cd3FB6887cFf8F17Bf5A7B83         0.000000e+00   \n",
       "2482341  0x45Fa9AB78aE37fbB282F8069b49765ECAa04c0e7         0.000000e+00   \n",
       "1522265  0x12e5E3E7A1389feD96e1BE50aEd32316C027B18B         0.000000e+00   \n",
       "2837393  0x02A522D98EC2D2c3bBe91AcC29ee7fD32ab880ab         0.000000e+00   \n",
       "2656025  0xe1D29d0a39962a9a8d2A297ebe82e166F8b8EC18         2.500000e+17   \n",
       "\n",
       "         minttimestamp _merge  timeToSell  \n",
       "1383194   1.627290e+09   both   2255686.0  \n",
       "419688    1.621528e+09   both   8018490.0  \n",
       "2534825   1.623674e+09   both      1338.0  \n",
       "2212062   1.628743e+09   both         0.0  \n",
       "2212063   1.628743e+09   both         0.0  \n",
       "...                ...    ...         ...  \n",
       "552675    1.629052e+09   both   1285314.0  \n",
       "2482341   1.617964e+09   both       455.0  \n",
       "1522265   1.620095e+09   both   5780127.0  \n",
       "2837393   1.617858e+09   both      9025.0  \n",
       "2656025   1.620439e+09   both   8877593.0  \n",
       "\n",
       "[1744874 rows x 19 columns]"
      ]
     },
     "execution_count": 120,
     "metadata": {},
     "output_type": "execute_result"
    }
   ],
   "source": [
    "sold.sort_values('transaction_value_x')"
   ]
  }
 ],
 "metadata": {
  "kernelspec": {
   "display_name": "Python 3",
   "language": "python",
   "name": "python3"
  },
  "language_info": {
   "codemirror_mode": {
    "name": "ipython",
    "version": 3
   },
   "file_extension": ".py",
   "mimetype": "text/x-python",
   "name": "python",
   "nbconvert_exporter": "python",
   "pygments_lexer": "ipython3",
   "version": "3.8.8"
  }
 },
 "nbformat": 4,
 "nbformat_minor": 5
}
